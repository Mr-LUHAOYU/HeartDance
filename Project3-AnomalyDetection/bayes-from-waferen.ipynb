{
 "cells": [
  {
   "cell_type": "markdown",
   "metadata": {
    "editable": false
   },
   "source": [
    "## 数据预处理与环境安装"
   ]
  },
  {
   "cell_type": "code",
   "execution_count": null,
   "metadata": {
    "editable": false,
    "trusted": true
   },
   "outputs": [],
   "source": [
    "!pip install -q bnlearn"
   ]
  },
  {
   "cell_type": "code",
   "execution_count": null,
   "metadata": {
    "editable": false,
    "trusted": true
   },
   "outputs": [],
   "source": [
    "import pandas as pd\n",
    "\n",
    "def process_csv(file_path,output_path):\n",
    "    # 读取CSV文件\n",
    "    df = pd.read_csv(file_path)\n",
    "\n",
    "    # 遍历每一列\n",
    "    for col in df.columns:\n",
    "        # 进行min-max归一化\n",
    "        df[col] = (df[col] - df[col].min()) / (df[col].max() - df[col].min())\n",
    "\n",
    "    # 保存处理后的CSV文件\n",
    "    df.to_csv(output_path, index=False)\n",
    "\n",
    "\n",
    "process_csv('data_origin.csv', 'data_train.csv')\n",
    "process_csv('metrics_abnormal.csv', 'data_test_abnormal.csv')\n",
    "process_csv('metrics_anomaly.csv', 'data_test_normal.csv')"
   ]
  },
  {
   "cell_type": "markdown",
   "metadata": {
    "editable": false
   },
   "source": [
    "## 数据划分"
   ]
  },
  {
   "cell_type": "code",
   "execution_count": null,
   "metadata": {
    "editable": false,
    "trusted": true
   },
   "outputs": [],
   "source": [
    "import pandas as pd\n",
    "import matplotlib.pyplot as plt\n",
    "from sklearn.model_selection import train_test_split\n",
    "\n",
    "# 读取数据\n",
    "data_train_path = 'data_train.csv'\n",
    "data_test_abnormal_path = 'data_test_abnormal.csv'\n",
    "data_test_normal_path = 'data_test_normal.csv'\n",
    "\n",
    "train_df = pd.read_csv(data_train_path)\n",
    "test_df_normal = pd.read_csv(data_test_normal_path)\n",
    "test_df_abnormal = pd.read_csv(data_test_abnormal_path)\n",
    "\n",
    "# 给测试数据添加标签\n",
    "test_df_normal['label'] = 0  # 正常样本标记为 0\n",
    "test_df_abnormal['label'] = 1  # 异常样本标记为 1\n",
    "\n",
    "# 合并两个测试集\n",
    "test_df = pd.concat([test_df_normal, test_df_abnormal], axis=0).reset_index(drop=True)"
   ]
  },
  {
   "cell_type": "markdown",
   "metadata": {
    "editable": false
   },
   "source": [
    "## 相关性分析"
   ]
  },
  {
   "cell_type": "code",
   "execution_count": null,
   "metadata": {
    "editable": false,
    "trusted": true
   },
   "outputs": [],
   "source": [
    "import seaborn as sns\n",
    "import matplotlib.pyplot as plt\n",
    "\n",
    "# 计算特征之间的相关性\n",
    "correlation_matrix = train_df.corr()\n",
    "\n",
    "# 画热力图（取消 annot）\n",
    "plt.figure(figsize=(12, 10))\n",
    "sns.heatmap(correlation_matrix, cmap=\"coolwarm\", linewidths=0.5, cbar=True)\n",
    "plt.title(\"Feature Correlation Heatmap\")\n",
    "plt.show()\n",
    "\n",
    "# 计算每个特征与目标变量（假设最后一列为目标）之间的相关性\n",
    "target_feature = train_df.columns[-1]\n",
    "feature_correlations = correlation_matrix[target_feature].drop(target_feature)\n",
    "\n",
    "# 按照相关性排序\n",
    "feature_correlations_sorted = feature_correlations.abs().sort_values(ascending=False)\n",
    "\n",
    "# 可视化相关性（柱状图）\n",
    "plt.figure(figsize=(10, 5))\n",
    "feature_correlations_sorted.plot(kind=\"bar\", color=\"teal\")\n",
    "plt.xlabel(\"Feature\")\n",
    "plt.ylabel(\"Correlation with Target\")\n",
    "plt.title(\"Feature-Target Correlation\")\n",
    "plt.show()\n"
   ]
  },
  {
   "cell_type": "markdown",
   "metadata": {
    "editable": false
   },
   "source": [
    "## 训练贝叶斯网络"
   ]
  },
  {
   "cell_type": "code",
   "execution_count": null,
   "metadata": {
    "editable": false,
    "trusted": true
   },
   "outputs": [],
   "source": [
    "import bnlearn as bn\n",
    "\n",
    "def construct_bayesian_network(train_df):\n",
    "    \"\"\"构建贝叶斯网络\"\"\"\n",
    "    # 结构学习\n",
    "    model = bn.structure_learning.fit(train_df, methodtype='hc',verbose=0)\n",
    "    # 参数学习\n",
    "    model = bn.parameter_learning.fit(model, train_df,verbose=0)\n",
    "    return model\n",
    "\n",
    "# 训练贝叶斯网络\n",
    "model = construct_bayesian_network(train_df)\n",
    "\n",
    "import matplotlib.pyplot as plt\n",
    "\n",
    "plt.ioff()  # 关闭交互模式，减少额外输出\n",
    "bn.plot(model)\n",
    "plt.show()  # 仅显示最终的图，而不会产生额外文本输出"
   ]
  },
  {
   "cell_type": "markdown",
   "metadata": {
    "editable": false
   },
   "source": [
    "## 异常检测与可视化"
   ]
  },
  {
   "cell_type": "code",
   "execution_count": null,
   "metadata": {
    "editable": false,
    "trusted": true
   },
   "outputs": [],
   "source": [
    "def detect_anomalies(model, df, threshold=None):\n",
    "    \"\"\"使用贝叶斯网络计算对数似然，并检测异常\"\"\"\n",
    "    log_likelihoods = []\n",
    "\n",
    "    for i in range(len(df)):\n",
    "        sample = df.iloc[i].to_dict()\n",
    "        \n",
    "        # 选择目标变量作为预测变量，而不是所有变量\n",
    "        target_variable = list(sample.keys())[-1]  # 假设最后一列为目标变量\n",
    "        evidence = {k: v for k, v in sample.items() if k != target_variable and k != 'label'}\n",
    "\n",
    "        try:\n",
    "            log_likelihood = bn.inference.fit(model, variables=[target_variable], evidence=evidence)\n",
    "            log_likelihoods.append(log_likelihood)\n",
    "        except Exception as e:\n",
    "            print(f\"⚠️ 计算第 {i} 行时发生错误: {e}\")\n",
    "            log_likelihoods.append(None)\n",
    "\n",
    "    df['log_likelihood'] = log_likelihoods\n",
    "\n",
    "    # 如果未指定阈值，则使用训练集对数似然的均值 - 3 * 标准差 作为阈值\n",
    "    if threshold is None:\n",
    "        threshold = np.nanmean(log_likelihoods) - 3 * np.nanstd(log_likelihoods)\n",
    "\n",
    "    df['anomaly'] = df['log_likelihood'] < threshold  # 低于阈值的视为异常\n",
    "    return df[['log_likelihood', 'anomaly']], threshold\n",
    "\n",
    "# 计算训练集的对数似然分布，并确定异常阈值\n",
    "train_results, threshold = detect_anomalies(model, train_df)\n",
    "\n",
    "# 在测试集上检测异常\n",
    "test_results, _ = detect_anomalies(model, test_df, threshold)\n",
    "\n",
    "# 计算准确率\n",
    "y_true = test_df['label'].values  # 真实标签\n",
    "y_pred = test_results['anomaly'].astype(int).values  # 预测的异常值 (1: 异常, 0: 正常)\n",
    "\n",
    "accuracy = accuracy_score(y_true, y_pred)\n",
    "precision = precision_score(y_true, y_pred)\n",
    "recall = recall_score(y_true, y_pred)\n",
    "f1 = f1_score(y_true, y_pred)\n",
    "\n",
    "print(f\"Accuracy: {accuracy:.4f}\")\n",
    "print(f\"Precision: {precision:.4f}\")\n",
    "print(f\"Recall: {recall:.4f}\")\n",
    "print(f\"F1-score: {f1:.4f}\")\n",
    "\n",
    "# 可视化结果\n",
    "plt.figure(figsize=(10, 5))\n",
    "plt.hist(train_results['log_likelihood'], bins=30, alpha=0.6, label=\"Train Log-Likelihood\", color='blue')\n",
    "plt.hist(test_results['log_likelihood'], bins=30, alpha=0.6, label=\"Test Log-Likelihood\", color='orange')\n",
    "plt.axvline(threshold, color='red', linestyle='dashed', linewidth=2, label=\"Anomaly Threshold\")\n",
    "plt.xlabel(\"Log-Likelihood\")\n",
    "plt.ylabel(\"Frequency\")\n",
    "plt.title(\"Log-Likelihood Distribution (Train vs Test)\")\n",
    "plt.legend()\n",
    "plt.show()\n",
    "\n",
    "# 标记异常点\n",
    "plt.figure(figsize=(8, 4))\n",
    "plt.scatter(range(len(test_results)), test_results['log_likelihood'], c=test_results['anomaly'], cmap=\"coolwarm\", edgecolors='k')\n",
    "plt.axhline(threshold, color='red', linestyle='dashed', linewidth=2, label=\"Anomaly Threshold\")\n",
    "plt.xlabel(\"Sample Index\")\n",
    "plt.ylabel(\"Log-Likelihood\")\n",
    "plt.title(\"Anomaly Detection in Test Data\")\n",
    "plt.legend()\n",
    "plt.show()"
   ]
  }
 ],
 "metadata": {
  "kaggle": {
   "accelerator": "none",
   "dataSources": [
    {
     "datasetId": 6943783,
     "sourceId": 11133371,
     "sourceType": "datasetVersion"
    }
   ],
   "dockerImageVersionId": 30918,
   "isGpuEnabled": false,
   "isInternetEnabled": true,
   "language": "python",
   "sourceType": "notebook"
  },
  "kernelspec": {
   "display_name": "Python 3",
   "language": "python",
   "name": "python3"
  },
  "language_info": {
   "codemirror_mode": {
    "name": "ipython",
    "version": 3
   },
   "file_extension": ".py",
   "mimetype": "text/x-python",
   "name": "python",
   "nbconvert_exporter": "python",
   "pygments_lexer": "ipython3",
   "version": "3.10.12"
  }
 },
 "nbformat": 4,
 "nbformat_minor": 4
}
